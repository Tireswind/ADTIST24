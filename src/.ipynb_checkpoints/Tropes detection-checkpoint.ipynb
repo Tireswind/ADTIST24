{
 "cells": [
  {
   "cell_type": "markdown",
   "id": "976fc82d",
   "metadata": {},
   "source": [
    "# Tropes detection"
   ]
  },
  {
   "cell_type": "code",
   "execution_count": null,
   "id": "576e00e9",
   "metadata": {},
   "outputs": [],
   "source": [
    "import numpy as np\n",
    "import pandas as pd\n",
    "from collections import deque\n",
    "import random\n",
    "import copy\n",
    "import json\n",
    "import io\n",
    "\n",
    "import torch\n",
    "from sklearn.metrics import precision_recall_fscore_support, accuracy_score\n",
    "from sklearn.model_selection import train_test_split\n",
    "from sklearn.feature_extraction.text import TfidfVectorizer\n",
    "import torch.nn as nn\n",
    "from torch.utils.data import TensorDataset, DataLoader, RandomSampler, SequentialSampler\n",
    "from transformers import AutoTokenizer, BertModel, BertForPreTraining, BertForSequenceClassification, RobertaForSequenceClassification,  AlbertForSequenceClassification\n",
    "from torch.optim.lr_scheduler import ReduceLROnPlateau, LambdaLR\n",
    "from torch.optim import AdamW\n",
    "\n",
    "from tqdm.notebook import tqdm, trange\n",
    "\n",
    "random_seed = 0\n",
    "torch.manual_seed(random_seed)\n",
    "random.seed(random_seed)\n",
    "np.random.seed(random_seed)"
   ]
  },
  {
   "cell_type": "code",
   "execution_count": null,
   "id": "9a03b1a2",
   "metadata": {},
   "outputs": [],
   "source": [
    "TROPES = [\"Time Will Tell\",\n",
    "          \"Distrust Experts\",\n",
    "          \"Too Fast\",\n",
    "          \"Natural is Better\",\n",
    "          \"Liberty, Freedom\",\n",
    "          \"Hidden Motives\",\n",
    "          \"Scapegoat\",\n",
    "          \"Defend the Weak\",\n",
    "          \"Wicked Fairness\"]\n"
   ]
  },
  {
   "cell_type": "markdown",
   "id": "f99a8a59",
   "metadata": {},
   "source": [
    "# Data"
   ]
  },
  {
   "cell_type": "code",
   "execution_count": null,
   "id": "171190e0",
   "metadata": {},
   "outputs": [],
   "source": [
    "from skmultilearn.model_selection import iterative_train_test_split"
   ]
  },
  {
   "cell_type": "code",
   "execution_count": null,
   "id": "1bf24b68",
   "metadata": {},
   "outputs": [],
   "source": [
    "path = \"../../\"\n",
    "\n",
    "df = pd.read_csv(path+'tropes_data.csv')\n",
    "\n",
    "df"
   ]
  },
  {
   "cell_type": "code",
   "execution_count": null,
   "id": "b96ab797",
   "metadata": {},
   "outputs": [],
   "source": [
    "from iterstrat.ml_stratifiers import MultilabelStratifiedKFold\n",
    "import numpy as np\n",
    "\n",
    "X = np.array([x for x in range(0, len(df))])\n",
    "y = np.array([df.iloc[i, 2:11].tolist() for i in range(0, len(df))])\n",
    "\n",
    "mskf = MultilabelStratifiedKFold(n_splits=5, shuffle=True, random_state=0)\n",
    "\n",
    "for train_index, test_index in mskf.split(X, y):\n",
    "    print(\"TRAIN:\", train_index, \"TEST:\", test_index)\n",
    "    X_train, X_test = X[train_index], X[test_index]\n",
    "    y_train, y_test = y[train_index], y[test_index]"
   ]
  },
  {
   "cell_type": "code",
   "execution_count": null,
   "id": "2963d285",
   "metadata": {},
   "outputs": [],
   "source": [
    "df_train = df.iloc[X_train,:]\n",
    "df_test = df.iloc[X_test,:]\n"
   ]
  },
  {
   "cell_type": "code",
   "execution_count": null,
   "id": "2d8332a4",
   "metadata": {},
   "outputs": [],
   "source": [
    "weights_tmp = [0 for i in range(0, len(TROPES))]\n",
    "for i in range(0, len(TROPES)):\n",
    "    for j in range(0, len(train_labels)):\n",
    "        if train_labels[j][i]>0:\n",
    "            weights_tmp[i]+=1\n",
    "\n",
    "weights_tropes = torch.Tensor([[len(train_labels)/(len(train_labels)-w), len(train_labels)/(w)] for w in weights_tmp]).to('cuda')\n"
   ]
  },
  {
   "cell_type": "code",
   "execution_count": null,
   "id": "bdd92af9",
   "metadata": {},
   "outputs": [],
   "source": [
    "tokenizer = AutoTokenizer.from_pretrained('digitalepidemiologylab/covid-twitter-bert')\n",
    "\n",
    "tokenized_input = tokenizer(train_text)\n",
    "\n",
    "m = 0\n",
    "for tokens in tokenized_input['input_ids']:\n",
    "    if len(tokens)>m:\n",
    "        m=len(tokens)\n",
    "m"
   ]
  },
  {
   "cell_type": "code",
   "execution_count": null,
   "id": "41159e3b",
   "metadata": {},
   "outputs": [],
   "source": [
    "MAX_LEN = 128\n",
    "\n",
    "tokenized_train = tokenizer(train_text, max_length=MAX_LEN, padding='max_length', truncation=True)\n",
    "tokenized_validation = tokenizer(validation_text, max_length=MAX_LEN, padding='max_length', truncation=True)\n",
    "    \n",
    "train_input_ids, train_token_type_ids, train_attention_mask = tokenized_train['input_ids'], tokenized_train['token_type_ids'], tokenized_train['attention_mask']\n",
    "validation_input_ids, validation_token_type_ids, validation_attention_mask = tokenized_validation['input_ids'], tokenized_validation['token_type_ids'], tokenized_validation['attention_mask']\n",
    "\n",
    "train_token_type_ids = torch.tensor(train_token_type_ids)\n",
    "validation_token_type_ids = torch.tensor(validation_token_type_ids)\n",
    "\n",
    "# Convert to torch tensor\n",
    "train_input_ids = torch.tensor(train_input_ids)\n",
    "train_labels = torch.tensor(train_labels)\n",
    "train_attention_mask = torch.tensor(train_attention_mask)\n",
    "train_token_type_ids = torch.tensor(train_token_type_ids)\n",
    "\n",
    "validation_input_ids = torch.tensor(validation_input_ids)\n",
    "validation_labels = torch.tensor(validation_labels)\n",
    "validation_attention_mask = torch.tensor(validation_attention_mask)\n",
    "validation_token_type_ids = torch.tensor(validation_token_type_ids)"
   ]
  },
  {
   "cell_type": "code",
   "execution_count": null,
   "id": "432e8fc5",
   "metadata": {},
   "outputs": [],
   "source": [
    "batch_size = 12 #\n",
    "\n",
    "train_data = TensorDataset(train_input_ids, train_attention_mask, train_labels, train_token_type_ids)\n",
    "validation_data = TensorDataset(validation_input_ids, validation_attention_mask, validation_labels, validation_token_type_ids)\n",
    "\n",
    "    \n",
    "train_sampler = RandomSampler(train_data)\n",
    "train_dataloader = DataLoader(train_data, sampler=train_sampler, batch_size=batch_size)\n",
    "\n",
    "validation_sampler = SequentialSampler(validation_data)\n",
    "validation_dataloader = DataLoader(validation_data, sampler=validation_sampler, batch_size=batch_size)\n"
   ]
  },
  {
   "cell_type": "markdown",
   "id": "69324287",
   "metadata": {},
   "source": [
    "# Model"
   ]
  },
  {
   "cell_type": "code",
   "execution_count": null,
   "id": "263bdde9",
   "metadata": {},
   "outputs": [],
   "source": [
    "class bert(nn.Module):\n",
    "    \n",
    "    def __init__(self, n_classes):\n",
    "        super().__init__()\n",
    "        self.n_classes = n_classes\n",
    "        self.bert = BertForSequenceClassification.from_pretrained(\"bert-large-uncased\", num_labels=n_classes)\n",
    "        \n",
    "    def forward(self, input_ids, token_type_ids, input_mask):\n",
    "        outputs = self.bert(input_ids = input_ids, token_type_ids = token_type_ids, attention_mask = input_mask)\n",
    "\n",
    "        logits = outputs.logits\n",
    "        \n",
    "        return logits\n",
    "    \n",
    "class CTbert(nn.Module):\n",
    "    \n",
    "    def __init__(self, n_classes):\n",
    "        super().__init__()\n",
    "        self.n_classes = n_classes\n",
    "        self.bert = BertForPreTraining.from_pretrained('digitalepidemiologylab/covid-twitter-bert-v2')    \n",
    "        self.bert.cls.seq_relationship = nn.Linear(1024, n_classes)\n",
    "        \n",
    "    def forward(self, input_ids, token_type_ids, input_mask):\n",
    "        outputs = self.bert(input_ids = input_ids, token_type_ids = token_type_ids, attention_mask = input_mask)\n",
    "\n",
    "        logits = outputs[1]\n",
    "        \n",
    "        return logits  "
   ]
  },
  {
   "cell_type": "code",
   "execution_count": null,
   "id": "bdbf5cd9",
   "metadata": {},
   "outputs": [],
   "source": [
    "device=\"cuda\"\n",
    "\n",
    "model = CTbert((len(TROPES))*2)\n",
    "model.to(device)"
   ]
  },
  {
   "cell_type": "code",
   "execution_count": null,
   "id": "0521a58c",
   "metadata": {},
   "outputs": [],
   "source": [
    "optimizer = AdamW(model.parameters(),\n",
    "                  lr=2e-5, #CTBert\n",
    "                  weight_decay = 0.01)\n",
    "\n",
    "scheduler = ReduceLROnPlateau(optimizer, patience=4, factor=0.3)\n"
   ]
  },
  {
   "cell_type": "code",
   "execution_count": null,
   "id": "829f0d2a",
   "metadata": {},
   "outputs": [],
   "source": [
    "criterions = []\n",
    "\n",
    "for i in range(0, len(TROPES)):\n",
    "    criterions.append(nn.CrossEntropyLoss(weight = weights_tropes[i]))\n",
    "\n"
   ]
  },
  {
   "cell_type": "markdown",
   "id": "5e248e1e",
   "metadata": {},
   "source": [
    "# Training"
   ]
  },
  {
   "cell_type": "code",
   "execution_count": null,
   "id": "e7780bc1",
   "metadata": {},
   "outputs": [],
   "source": [
    "epochs = 25\n",
    "\n",
    "best_loss = 999\n",
    "best_state_dict = model.state_dict()\n",
    "best_epoch = 0\n",
    "METRICS = []\n",
    "best_mean_f1 = 0\n",
    "sig = nn.Sigmoid()\n",
    "\n",
    "for e in trange(0, epochs):\n",
    "\n",
    "    # Training\n",
    "    print('Starting epoch ', e)\n",
    "    model.train()\n",
    "    \n",
    "    tr_loss = 0\n",
    "    nb_tr_examples, nb_tr_steps = 0, 0\n",
    "\n",
    "    for step, batch in enumerate(train_dataloader):\n",
    "\n",
    "        batch = tuple(t.to(device) for t in batch)\n",
    "\n",
    "        b_input_ids, b_input_mask, b_labels, b_token_type_ids = batch\n",
    "        \n",
    "        b_labels = b_labels.float()\n",
    "        optimizer.zero_grad()\n",
    "        \n",
    "        logits = model(b_input_ids, b_token_type_ids, b_input_mask) #.logits\n",
    "        \n",
    "        losses = []\n",
    "        for i in range(0, len(TROPES)):\n",
    "            logits_i = logits[:,2*i:2*i+2]\n",
    "            labels_i = b_labels[:, i].long()\n",
    "            loss_i = criterions[i](logits_i, labels_i)\n",
    "            losses.append(loss_i)\n",
    "        loss = sum(losses)\n",
    "        \n",
    "        loss.backward()\n",
    "        optimizer.step()\n",
    "\n",
    "        tr_loss += loss.item()\n",
    "        nb_tr_examples += b_input_ids.size(0)\n",
    "        nb_tr_steps += 1\n",
    "\n",
    "    print(\"Train loss: {}\".format(tr_loss/nb_tr_steps))\n",
    "    \n",
    "    \n",
    "    # Testing\n",
    "    \n",
    "    model.eval()\n",
    "    \n",
    "    tweets_test = []\n",
    "    \n",
    "    predictions_sep = [[], [], [], [], [], [], [], [], [],[], [], [], [], [], [], [], [], [], [], []]\n",
    "    predictions_sep = [[], [], [], [], [], [], [], [], [],[], [], [], [], [], [], [], [], [], [], [], [], [], [], [], [], [], [], []]\n",
    "\n",
    "    labels_sep = [[], [], [], [], [], [], [], [], [],[], [], [], [], [], [], [], [], [], [], []]\n",
    "    labels_sep = [[], [], [], [], [], [], [], [], [],[], [], [], [], [], [], [], [], [], [], [], [], [], [], [], [], [], [], []]\n",
    "    \n",
    "    eval_loss = 0\n",
    "    steps=0\n",
    "    for step, batch in enumerate(validation_dataloader):\n",
    "\n",
    "        # Add batch to GPU\n",
    "        batch = tuple(t.to(device) for t in batch)\n",
    "\n",
    "        b_input_ids, b_input_mask, b_labels, b_token_type_ids = batch\n",
    "            \n",
    "        b_labels = b_labels.float()\n",
    "        \n",
    "        with torch.no_grad():\n",
    "\n",
    "            logits = model(b_input_ids, b_token_type_ids, b_input_mask)\n",
    "            losses = []\n",
    "            for i in range(0, len(TROPES)):\n",
    "                logits_i = logits[:,2*i:2*i+2]\n",
    "                labels_i = b_labels[:, i].long()\n",
    "                loss_i = criterions[i](logits_i, labels_i)\n",
    "                losses.append(loss_i)\n",
    "            loss = sum(losses)\n",
    "\n",
    "        logits = logits.detach().cpu().numpy()\n",
    "        ground_truth = b_labels.detach().cpu().numpy()\n",
    "        \n",
    "        steps+=1\n",
    "        eval_loss+=loss.detach().item()\n",
    "                \n",
    "        for i in range(0, len(TROPES)):\n",
    "            for p in logits:\n",
    "                p_i = p[2*i:2*i+2]\n",
    "                pred = np.argmax(p_i)\n",
    "                predictions_sep[i].append(pred)\n",
    "\n",
    "            for l in ground_truth:\n",
    "                labels_sep[i].append(int(l[i]))\n",
    "    scheduler.step(eval_loss/steps)\n",
    "    LOSS = eval_loss/steps\n",
    "    \n",
    "    \n",
    "    F1s = []\n",
    "    PREs = []\n",
    "    RECs = []\n",
    "    for i in range(0, len(TROPES)):\n",
    "        if i!=i_to_skip:\n",
    "            precision_i, recall_i, f1_i, _= precision_recall_fscore_support(labels_sep[i], predictions_sep[i], average='binary')\n",
    "            F1s.append(round(f1_i, 3))\n",
    "            PREs.append(round(precision_i, 3))\n",
    "            RECs.append(round(recall_i, 3))\n",
    "        \n",
    "    #precision, recall, f1_h, support =  metrics.precision_recall_fscore_support(labels_sep[0], predictions_sep[0], average='macro')\n",
    "    mean_pre, mean_rec, mean_f1 = np.mean(PREs), np.mean(RECs), np.mean(F1s)\n",
    "    METRICS.append([mean_pre, mean_rec, mean_f1, F1s])\n",
    "    \n",
    "    if mean_f1> best_mean_f1:\n",
    "        best_loss = LOSS\n",
    "        best_state_dict = copy.deepcopy(model.state_dict())\n",
    "        best_epoch = e\n",
    "        best_mean_f1 = mean_f1\n",
    "    \n",
    "    print(\"\\t Eval loss: {}\".format(LOSS))\n",
    "    print(\"\\t Eval F1: {}, PRE: {}, REC: {}\".format(round(mean_f1, 3), round(mean_pre, 3), round(mean_rec, 3)))\n",
    "    print(\"\\t Eval F1s: {}\".format(F1s))\n",
    "    print(\"---\"*25)\n",
    "    print(\"\\n\")\n"
   ]
  },
  {
   "cell_type": "code",
   "execution_count": null,
   "id": "8458f685",
   "metadata": {},
   "outputs": [],
   "source": [
    "torch.save(best_state_dict, \"best_model_e\"+str(best_epoch)+\"_f\"+round(best_mean_f1, 3)+\".pth\")\n"
   ]
  }
 ],
 "metadata": {
  "kernelspec": {
   "display_name": "Python 3",
   "language": "python",
   "name": "python3"
  },
  "language_info": {
   "codemirror_mode": {
    "name": "ipython",
    "version": 3
   },
   "file_extension": ".py",
   "mimetype": "text/x-python",
   "name": "python",
   "nbconvert_exporter": "python",
   "pygments_lexer": "ipython3",
   "version": "3.8.12"
  }
 },
 "nbformat": 4,
 "nbformat_minor": 5
}
